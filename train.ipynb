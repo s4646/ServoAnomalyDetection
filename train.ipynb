{
 "cells": [
  {
   "cell_type": "code",
   "execution_count": 1,
   "metadata": {},
   "outputs": [],
   "source": [
    "import torch\n",
    "import numpy as np\n",
    "from tqdm import tqdm\n",
    "from data import Data\n",
    "import onnx, onnxruntime ,onnxoptimizer\n",
    "import intel_extension_for_pytorch as ipex\n",
    "from torch.utils.data import DataLoader, random_split\n",
    "from model import Convolutional_Neural_Network\n",
    "from sklearn.metrics import confusion_matrix, classification_report, ConfusionMatrixDisplay"
   ]
  },
  {
   "cell_type": "code",
   "execution_count": 2,
   "metadata": {},
   "outputs": [],
   "source": [
    "dataset = Data(\"data\")\n",
    "train_len = int(np.round(dataset.len*0.8))\n",
    "valid_len = int(np.round(dataset.len*0.1))\n",
    "test_len = int(np.round(dataset.len*0.1))\n",
    "\n",
    "train_data, valid_data, test_data = random_split(dataset = dataset, lengths = [train_len, valid_len, test_len], generator=torch.Generator().manual_seed(42))\n",
    "\n",
    "train_loader = DataLoader(train_data, batch_size=16)\n",
    "valid_loader = DataLoader(valid_data, batch_size=16)\n",
    "test_loader = DataLoader(test_data, batch_size=1)"
   ]
  },
  {
   "cell_type": "code",
   "execution_count": 3,
   "metadata": {},
   "outputs": [
    {
     "name": "stdout",
     "output_type": "stream",
     "text": [
      "cuda\n"
     ]
    }
   ],
   "source": [
    "device = torch.device(\"cuda\" if torch.cuda.is_available() else \"cpu\")\n",
    "print(device)"
   ]
  },
  {
   "cell_type": "code",
   "execution_count": 4,
   "metadata": {},
   "outputs": [],
   "source": [
    "CNN = Convolutional_Neural_Network().to(device)\n",
    "learning_rate = CNN.get_learning_rate()\n",
    "optimizer = torch.optim.Adam(CNN.parameters(), lr=learning_rate)\n",
    "criterion = torch.nn.BCELoss()"
   ]
  },
  {
   "cell_type": "code",
   "execution_count": 5,
   "metadata": {},
   "outputs": [],
   "source": [
    "def binary_acc(y_pred, y_test):\n",
    "    y_pred_tag = torch.round(y_pred)\n",
    "    correct_results_sum = (y_pred_tag == y_test).sum().float()\n",
    "    acc = correct_results_sum/y_test.shape[0]\n",
    "    acc = torch.round(acc * 100)\n",
    "    return acc"
   ]
  },
  {
   "cell_type": "code",
   "execution_count": 6,
   "metadata": {},
   "outputs": [
    {
     "name": "stderr",
     "output_type": "stream",
     "text": [
      "Training: 100%|██████████| 350/350 [00:08<00:00, 39.24it/s]\n",
      "Validation: 100%|██████████| 44/44 [00:00<00:00, 72.82it/s]\n"
     ]
    },
    {
     "name": "stdout",
     "output_type": "stream",
     "text": [
      "Epoch 001: | Train loss: 0.56198 | Train accuracy: 92.077% | Validation loss: 0.53717 | Validation accuracy: 98.773%\n"
     ]
    },
    {
     "name": "stderr",
     "output_type": "stream",
     "text": [
      "Training: 100%|██████████| 350/350 [00:06<00:00, 55.10it/s]\n",
      "Validation: 100%|██████████| 44/44 [00:00<00:00, 86.45it/s]\n"
     ]
    },
    {
     "name": "stdout",
     "output_type": "stream",
     "text": [
      "Epoch 002: | Train loss: 0.52297 | Train accuracy: 97.763% | Validation loss: 0.52502 | Validation accuracy: 99.114%\n"
     ]
    },
    {
     "name": "stderr",
     "output_type": "stream",
     "text": [
      "Training: 100%|██████████| 350/350 [00:06<00:00, 57.43it/s]\n",
      "Validation: 100%|██████████| 44/44 [00:00<00:00, 90.05it/s]\n"
     ]
    },
    {
     "name": "stdout",
     "output_type": "stream",
     "text": [
      "Epoch 003: | Train loss: 0.52036 | Train accuracy: 98.109% | Validation loss: 0.52494 | Validation accuracy: 97.955%\n"
     ]
    },
    {
     "name": "stderr",
     "output_type": "stream",
     "text": [
      "Training: 100%|██████████| 350/350 [00:06<00:00, 57.20it/s]\n",
      "Validation: 100%|██████████| 44/44 [00:00<00:00, 88.49it/s]\n"
     ]
    },
    {
     "name": "stdout",
     "output_type": "stream",
     "text": [
      "Epoch 004: | Train loss: 0.51380 | Train accuracy: 98.703% | Validation loss: 0.52431 | Validation accuracy: 99.318%\n"
     ]
    },
    {
     "name": "stderr",
     "output_type": "stream",
     "text": [
      "Training: 100%|██████████| 350/350 [00:06<00:00, 58.06it/s]\n",
      "Validation: 100%|██████████| 44/44 [00:00<00:00, 87.01it/s]\n"
     ]
    },
    {
     "name": "stdout",
     "output_type": "stream",
     "text": [
      "Epoch 005: | Train loss: 0.50901 | Train accuracy: 99.314% | Validation loss: 0.51850 | Validation accuracy: 99.455%\n"
     ]
    },
    {
     "name": "stderr",
     "output_type": "stream",
     "text": [
      "Training: 100%|██████████| 350/350 [00:06<00:00, 57.10it/s]\n",
      "Validation: 100%|██████████| 44/44 [00:00<00:00, 90.26it/s]\n"
     ]
    },
    {
     "name": "stdout",
     "output_type": "stream",
     "text": [
      "Epoch 006: | Train loss: 0.50890 | Train accuracy: 99.243% | Validation loss: 0.50813 | Validation accuracy: 99.182%\n"
     ]
    },
    {
     "name": "stderr",
     "output_type": "stream",
     "text": [
      "Training: 100%|██████████| 350/350 [00:06<00:00, 57.55it/s]\n",
      "Validation: 100%|██████████| 44/44 [00:00<00:00, 90.56it/s]\n"
     ]
    },
    {
     "name": "stdout",
     "output_type": "stream",
     "text": [
      "Epoch 007: | Train loss: 0.50822 | Train accuracy: 99.397% | Validation loss: 0.50538 | Validation accuracy: 100.000%\n"
     ]
    },
    {
     "name": "stderr",
     "output_type": "stream",
     "text": [
      "Training: 100%|██████████| 350/350 [00:06<00:00, 56.91it/s]\n",
      "Validation: 100%|██████████| 44/44 [00:00<00:00, 89.97it/s]\n"
     ]
    },
    {
     "name": "stdout",
     "output_type": "stream",
     "text": [
      "Epoch 008: | Train loss: 0.50622 | Train accuracy: 99.520% | Validation loss: 0.50856 | Validation accuracy: 99.727%\n"
     ]
    },
    {
     "name": "stderr",
     "output_type": "stream",
     "text": [
      "Training: 100%|██████████| 350/350 [00:06<00:00, 55.10it/s]\n",
      "Validation: 100%|██████████| 44/44 [00:00<00:00, 78.92it/s]\n"
     ]
    },
    {
     "name": "stdout",
     "output_type": "stream",
     "text": [
      "Epoch 009: | Train loss: 0.50709 | Train accuracy: 99.397% | Validation loss: 0.50811 | Validation accuracy: 99.864%\n"
     ]
    },
    {
     "name": "stderr",
     "output_type": "stream",
     "text": [
      "Training: 100%|██████████| 350/350 [00:06<00:00, 54.13it/s]\n",
      "Validation: 100%|██████████| 44/44 [00:00<00:00, 85.77it/s]"
     ]
    },
    {
     "name": "stdout",
     "output_type": "stream",
     "text": [
      "Epoch 010: | Train loss: 0.50872 | Train accuracy: 99.260% | Validation loss: 0.51398 | Validation accuracy: 99.591%\n"
     ]
    },
    {
     "name": "stderr",
     "output_type": "stream",
     "text": [
      "\n"
     ]
    }
   ],
   "source": [
    "train_loss_list = []\n",
    "train_acc_list  =[]\n",
    "valid_loss_list = []\n",
    "valid_acc_list  =[]\n",
    "\n",
    "for epoch in (range(CNN.get_epochs())):\n",
    "    CNN.train()\n",
    "    train_loss = 0\n",
    "    train_acc = 0\n",
    "    val_loss = 0\n",
    "    val_acc = 0\n",
    "    for x_batch, y_batch in tqdm(train_loader, \"Training\"):\n",
    "        optimizer.zero_grad()\n",
    "        x_batch = x_batch.unsqueeze(0).permute(1,0,2).float()\n",
    "\n",
    "        y_pred = CNN(x_batch.to(device))\n",
    "        loss = criterion(y_pred.squeeze(-1), y_batch.to(device).float())\n",
    "        acc = binary_acc(y_pred.squeeze(-1), y_batch.to(device).float())\n",
    "        loss.backward()\n",
    "        \n",
    "        optimizer.step()\n",
    "        \n",
    "        train_loss += loss.item()\n",
    "        train_acc += acc.item()\n",
    "\n",
    "    # check model's performance per epoch\n",
    "    with torch.no_grad():\n",
    "        CNN.eval()\n",
    "        for x_val_batch, y_val_batch in tqdm(valid_loader, \"Validation\"):\n",
    "            x_val_batch = x_val_batch.unsqueeze(0).permute(1,0,2).float()\n",
    "\n",
    "            y_pred = CNN(x_val_batch.to(device))\n",
    "            val_loss += criterion(y_pred.squeeze(-1), y_val_batch.to(device).float()).item()\n",
    "            val_acc += binary_acc(y_pred.squeeze(-1), y_val_batch.to(device).float()).item()\n",
    "    \n",
    "    output = f'Epoch {epoch+1:03}: | Train loss: {train_loss/len(train_loader):.5f} | Train accuracy: {train_acc/len(train_loader):.3f}%'\n",
    "    output += f' | Validation loss: {val_loss/len(valid_loader):.5f} | Validation accuracy: {val_acc/len(valid_loader):.3f}%'\n",
    "    print(output)"
   ]
  },
  {
   "cell_type": "code",
   "execution_count": 7,
   "metadata": {},
   "outputs": [
    {
     "name": "stdout",
     "output_type": "stream",
     "text": [
      "CNN accuracy: 99.14%\n"
     ]
    }
   ],
   "source": [
    "CNN.eval()\n",
    "y_pred_list = []\n",
    "with torch.no_grad():\n",
    "    for x_batch, y_batch in test_loader:\n",
    "\n",
    "        x_batch = x_batch.unsqueeze(0).permute(1,0,2).float()\n",
    "\n",
    "        y_pred = CNN(x_batch.to(device))\n",
    "        y_pred_tag = torch.round(y_pred.squeeze(-1))\n",
    "        y_pred_list.append(int(y_pred_tag))\n",
    "\n",
    "accuracy = (np.array(y_pred_list) == np.array(dataset.y)[test_data.indices]).sum() / len(y_pred_list) * 100\n",
    "print('CNN accuracy: %.2f%%' % accuracy)"
   ]
  },
  {
   "cell_type": "code",
   "execution_count": 8,
   "metadata": {},
   "outputs": [
    {
     "name": "stdout",
     "output_type": "stream",
     "text": [
      "              precision    recall  f1-score   support\n",
      "\n",
      "           0       1.00      0.99      0.99       520\n",
      "           1       0.97      1.00      0.98       179\n",
      "\n",
      "    accuracy                           0.99       699\n",
      "   macro avg       0.98      0.99      0.99       699\n",
      "weighted avg       0.99      0.99      0.99       699\n",
      "\n"
     ]
    }
   ],
   "source": [
    "print(classification_report(np.array(y_pred_list), np.array(dataset.y)[test_data.indices]))"
   ]
  },
  {
   "cell_type": "code",
   "execution_count": 9,
   "metadata": {},
   "outputs": [
    {
     "data": {
      "text/plain": [
       "<sklearn.metrics._plot.confusion_matrix.ConfusionMatrixDisplay at 0x7f951fba33a0>"
      ]
     },
     "execution_count": 9,
     "metadata": {},
     "output_type": "execute_result"
    },
    {
     "data": {
      "image/png": "[encoded data removed]",
      "text/plain": [
       "<Figure size 640x480 with 2 Axes>"
      ]
     },
     "metadata": {},
     "output_type": "display_data"
    }
   ],
   "source": [
    "cm = confusion_matrix(np.array(y_pred_list), np.array(dataset.y)[test_data.indices])\n",
    "disp = ConfusionMatrixDisplay(confusion_matrix=cm)\n",
    "disp.plot()"
   ]
  },
  {
   "cell_type": "code",
   "execution_count": 10,
   "metadata": {},
   "outputs": [],
   "source": [
    "# torch.save(CNN, 'model_30_06_2024.pt')"
   ]
  },
  {
   "cell_type": "code",
   "execution_count": 11,
   "metadata": {},
   "outputs": [],
   "source": [
    "# torch_input = torch.randn(16, 1, 8000, device=device)  # Example input size\n",
    "# onnx_file_path = \"mymodel.onnx\"\n",
    "# torch.onnx.export(CNN, torch_input, onnx_file_path, export_params=True, opset_version=12,\n",
    "#                   do_constant_folding=True, input_names=['input'], output_names=['output'])"
   ]
  },
  {
   "cell_type": "code",
   "execution_count": 12,
   "metadata": {},
   "outputs": [],
   "source": [
    "# model_onnx = onnx.load(onnx_file_path)\n",
    "# onnx.checker.check_model(model_onnx)"
   ]
  },
  {
   "cell_type": "code",
   "execution_count": null,
   "metadata": {},
   "outputs": [],
   "source": []
  },
  {
   "cell_type": "code",
   "execution_count": null,
   "metadata": {},
   "outputs": [],
   "source": []
  },
  {
   "cell_type": "code",
   "execution_count": null,
   "metadata": {},
   "outputs": [],
   "source": []
  }
 ],
 "metadata": {
  "kernelspec": {
   "display_name": "autonomous",
   "language": "python",
   "name": "python3"
  },
  "language_info": {
   "codemirror_mode": {
    "name": "ipython",
    "version": 3
   },
   "file_extension": ".py",
   "mimetype": "text/x-python",
   "name": "python",
   "nbconvert_exporter": "python",
   "pygments_lexer": "ipython3",
   "version": "3.10.14"
  }
 },
 "nbformat": 4,
 "nbformat_minor": 2
}
